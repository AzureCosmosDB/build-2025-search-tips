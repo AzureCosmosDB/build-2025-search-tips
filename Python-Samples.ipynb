{
 "cells": [
  {
   "cell_type": "markdown",
   "id": "52008783",
   "metadata": {},
   "source": [
    "# Microsoft Build 2025, DEM567: Tips for fast vector and full-text search with Azure Cosmos DB"
   ]
  },
  {
   "cell_type": "code",
   "execution_count": null,
   "id": "add38ade",
   "metadata": {},
   "outputs": [],
   "source": [
    "from dotenv import dotenv_values\n",
    "import json\n",
    "from azure.cosmos import CosmosClient, PartitionKey, exceptions\n",
    "from azure.cosmos.aio import CosmosClient as AsyncClient\n",
    "from azure.identity import DefaultAzureCredential\n",
    "from openai import AzureOpenAI\n",
    "import asyncio\n",
    "\n",
    "import nest_asyncio\n",
    "nest_asyncio.apply()"
   ]
  },
  {
   "cell_type": "code",
   "execution_count": null,
   "id": "1c7b39a2",
   "metadata": {},
   "outputs": [],
   "source": [
    "# following example.env template change to your own .env file name\n",
    "config = dotenv_values(\".env\")\n",
    "cosmos_endpoint =  config['cosmos_endpoint']\n",
    "cosmos_database = config['cosmos_database']\n",
    "cosmos_container = config['cosmos_container']\n",
    "openai_endpoint = config['openai_endpoint']\n",
    "openai_key = config['openai_key']\n",
    "openai_embeddings_deployment = config['openai_embeddings_deployment']\n",
    "openai_embeddings_dimensions = config['openai_embeddings_dimensions']\n",
    "openai_api_version = config['openai_api_version']\n",
    "\n",
    "credential = DefaultAzureCredential() # use EntraID auth for Azure Cosmos DB"
   ]
  },
  {
   "cell_type": "code",
   "execution_count": null,
   "id": "dafeb45e",
   "metadata": {},
   "outputs": [],
   "source": [
    "def generate_embeddings(text):\n",
    "    response = openai_client.embeddings.create(\n",
    "        input=text,\n",
    "        model=openai_embeddings_deployment)     \n",
    "    embeddings = response.model_dump()\n",
    "    return embeddings['data'][0]['embedding']"
   ]
  },
  {
   "cell_type": "code",
   "execution_count": null,
   "id": "0b550472",
   "metadata": {},
   "outputs": [],
   "source": [
    "cosmos_client = CosmosClient(url=cosmos_endpoint, credential=credential)\n",
    "db = cosmos_client.get_database_client(cosmos_database)\n",
    "container = db.get_container_client(cosmos_container)\n",
    "\n",
    "openai_client = AzureOpenAI(azure_endpoint=openai_endpoint, api_key=openai_key, api_version=openai_api_version)"
   ]
  },
  {
   "cell_type": "markdown",
   "id": "5c2eff1f",
   "metadata": {},
   "source": [
    "## Setup Azure Cosmos DB with container and indexing policies for search"
   ]
  },
  {
   "cell_type": "code",
   "execution_count": null,
   "id": "1b77fe5c",
   "metadata": {},
   "outputs": [],
   "source": [
    "vector_embedding_policy = { \n",
    "\"vectorEmbeddings\": [ \n",
    "{ \n",
    "    \"path\": \"/embedding\", \n",
    "    \"dataType\": \"float32\", \n",
    "    \"distanceFunction\": \"cosine\", \n",
    "    \"dimensions\": 3072 \n",
    "}, \n",
    "    ]    \n",
    "}\n",
    "\n",
    "full_text_policy = {\n",
    "   \"defaultLanguage\": \"en-US\",\n",
    "   \"fullTextPaths\": [\n",
    "       {\n",
    "           \"path\": \"/description\",\n",
    "           \"language\": \"en-US\"\n",
    "       },\n",
    "       {\n",
    "           \"path\": \"/summary_review\",\n",
    "           \"language\": \"en-US\"\n",
    "       }\n",
    "   ]\n",
    "}"
   ]
  },
  {
   "cell_type": "code",
   "execution_count": null,
   "id": "d9a9abc5",
   "metadata": {},
   "outputs": [],
   "source": [
    "indexing_policy = { \n",
    "\"includedPaths\": [ \n",
    "    { \n",
    "    \"path\": \"/*\" \n",
    "    } \n",
    "    ], \n",
    "    \"excludedPaths\": [ \n",
    "    { \n",
    "\"path\": \"/\\\"_etag\\\"/?\",\n",
    "            \"path\": \"/embedding/*\",\n",
    "            \n",
    "} \n",
    "], \n",
    "\"vectorIndexes\": [ \n",
    "{\n",
    "    \"path\": \"/embedding\", \n",
    "    \"type\": \"diskANN\"\n",
    "    } \n",
    "],\n",
    "\"fullTextIndexes\": [\n",
    "    {\n",
    "        \"path\": \"/description\",\n",
    "    },\n",
    "    {\n",
    "        \"path\": \"/summary_review\",\n",
    "    }\n",
    "]\n",
    "}"
   ]
  },
  {
   "cell_type": "code",
   "execution_count": null,
   "id": "424908bb",
   "metadata": {},
   "outputs": [],
   "source": [
    "# Create CosmosDB Container\n",
    "container = db.create_container_if_not_exists(\n",
    "    id='Products',\n",
    "    partition_key=PartitionKey(path='/id'),\n",
    "    indexing_policy=indexing_policy,\n",
    "    vector_embedding_policy=vector_embedding_policy\n",
    ")"
   ]
  },
  {
   "cell_type": "markdown",
   "id": "a9fe8776",
   "metadata": {},
   "source": [
    "## Insert data for search examples"
   ]
  },
  {
   "cell_type": "code",
   "execution_count": null,
   "id": "c369c2d9",
   "metadata": {},
   "outputs": [],
   "source": [
    "# Load sample data\n",
    "with open('data/e-retail-data-3072D.json', 'r') as file:\n",
    "    data = json.load(file) "
   ]
  },
  {
   "cell_type": "code",
   "execution_count": null,
   "id": "0950cef8",
   "metadata": {},
   "outputs": [],
   "source": [
    "# Insert Data into CosmosDB\n",
    "for i in data:\n",
    "    container.create_item(body=i)"
   ]
  },
  {
   "cell_type": "markdown",
   "id": "412de18d",
   "metadata": {},
   "source": [
    "## Define search terms and generate embeddings"
   ]
  },
  {
   "cell_type": "code",
   "execution_count": 82,
   "id": "c196ef93",
   "metadata": {},
   "outputs": [],
   "source": [
    "search_terms = \"luxury bags\"\n",
    "emb = generate_embeddings(search_terms)\n",
    "full_text = search_terms.split()"
   ]
  },
  {
   "cell_type": "markdown",
   "id": "6c3a0bc5",
   "metadata": {},
   "source": [
    "## Vector Search"
   ]
  },
  {
   "cell_type": "code",
   "execution_count": 98,
   "id": "c1e1e26f",
   "metadata": {},
   "outputs": [
    {
     "name": "stdout",
     "output_type": "stream",
     "text": [
      "{\n",
      "    \"id\": \"Product-60\",\n",
      "    \"product_name\": \"Luxury Handbag Glam with Leather\",\n",
      "    \"description\": \"Indulge in luxury with our handcrafted leather handbag. Perfect for any occasion, this elegant accessory will elevate your style effortlessly.\",\n",
      "    \"Score\": 0.5735780326825795\n",
      "}\n",
      "{\n",
      "    \"id\": \"Product-95\",\n",
      "    \"product_name\": \"Luxe Elegant Leather Handbag\",\n",
      "    \"description\": \"Crafted from premium leather, this handbag exudes luxury and sophistication. With ample space and elegant design, it is perfect for both day and evening events.\",\n",
      "    \"Score\": 0.571470577188964\n",
      "}\n",
      "{\n",
      "    \"id\": \"Product-25\",\n",
      "    \"product_name\": \"Sapphire Luxe Handbag\",\n",
      "    \"description\": \"This luxurious handbag is crafted from premium leather, with a spacious interior and elegant gold hardware. Perfect for both casual outings and special occasions.\",\n",
      "    \"Score\": 0.5698408357266865\n",
      "}\n",
      "{\n",
      "    \"id\": \"Product-20\",\n",
      "    \"product_name\": \"Luxury Leather Handbag\",\n",
      "    \"description\": \"This luxurious handbag is made from genuine Italian leather, with a spacious interior and adjustable strap. Perfect for a night out or everyday use.\",\n",
      "    \"Score\": 0.5104190001944415\n",
      "}\n",
      "{\n",
      "    \"id\": \"Product-15\",\n",
      "    \"product_name\": \"Luxury Leather Handbag\",\n",
      "    \"description\": \"This exquisite handbag is made from genuine Italian leather and features a spacious interior with multiple compartments. Perfect for both casual and formal occasions.\",\n",
      "    \"Score\": 0.5019926538006588\n",
      "}\n",
      "{\n",
      "    \"id\": \"Product-6\",\n",
      "    \"product_name\": \"Tuscany Leather Handbag\",\n",
      "    \"description\": \"Crafted in the heart of Tuscany, this leather handbag combines style and functionality. With multiple compartments and a timeless design, it's a must-have accessory.\",\n",
      "    \"Score\": 0.473139526492886\n",
      "}\n",
      "{\n",
      "    \"id\": \"Product-85\",\n",
      "    \"product_name\": \"Stella Leather Handbag\",\n",
      "    \"description\": \"The Stella Leather Handbag is a timeless accessory crafted from high-quality leather. It features a spacious interior with multiple pockets and a detachable shoulder strap for versatility.\",\n",
      "    \"Score\": 0.47148866756845903\n",
      "}\n",
      "{\n",
      "    \"id\": \"Product-75\",\n",
      "    \"product_name\": \"Stella Leather Handbag\",\n",
      "    \"description\": \"This elegant leather handbag is perfect for any occasion. It features a spacious interior with multiple pockets for organization. The adjustable strap allows for versatile styling.\",\n",
      "    \"Score\": 0.45925239351115715\n",
      "}\n",
      "{\n",
      "    \"id\": \"Product-70\",\n",
      "    \"product_name\": \"Stella Leather Handbag\",\n",
      "    \"description\": \"The Stella Leather Handbag is a stylish and versatile accessory that complements any outfit. Handcrafted with premium leather, it features multiple compartments for organization. Perfect for work or a night out.\",\n",
      "    \"Score\": 0.44949863682230606\n",
      "}\n",
      "{\n",
      "    \"id\": \"Product-116\",\n",
      "    \"product_name\": \"Midnight Black Leather Handbag\",\n",
      "    \"description\": \"Elevate your style with our Midnight Black Leather Handbag. Crafted from high-quality leather and featuring a spacious interior, this handbag is both fashionable and functional.\",\n",
      "    \"Score\": 0.44359726660258986\n",
      "}\n"
     ]
    }
   ],
   "source": [
    "results = container.query_items(\n",
    "query = f'''\n",
    "        SELECT TOP 10 c.id, c.product_name, c.description, VectorDistance(c.embedding, {emb}) as Score\n",
    "        FROM c\n",
    "        ORDER BY VectorDistance(c.embedding, {emb}, false, {{\"searchListSizeMultiplier\": 5}})\n",
    "    ''',\n",
    "          enable_cross_partition_query=True, populate_query_metrics=True)\n",
    "\n",
    "for r in list(results):\n",
    "    print(json.dumps(r,indent=4))"
   ]
  },
  {
   "cell_type": "code",
   "execution_count": null,
   "id": "859fbd32",
   "metadata": {},
   "outputs": [],
   "source": []
  },
  {
   "cell_type": "markdown",
   "id": "6110094b",
   "metadata": {},
   "source": [
    "## A Simple Text search with `FullTextContains`"
   ]
  },
  {
   "cell_type": "code",
   "execution_count": null,
   "id": "973455de",
   "metadata": {},
   "outputs": [],
   "source": [
    "results = container.query_items(\n",
    "        query= f'''\n",
    "        SELECT TOP 5 c.product_id, c.product_name, c.description\n",
    "        FROM c\n",
    "        WHERE FullTextContainsAny(c.description,'{\"', '\".join(full_text)}')\n",
    "        ''',\n",
    "          enable_cross_partition_query=True, populate_query_metrics=True)\n",
    "\n",
    "for r in list(results):\n",
    "    print(json.dumps(r,indent=4))"
   ]
  },
  {
   "cell_type": "markdown",
   "id": "fca829a6",
   "metadata": {},
   "source": [
    "## Search and order by BM25 with `FullTextScore`"
   ]
  },
  {
   "cell_type": "code",
   "execution_count": null,
   "id": "b37b3cbf",
   "metadata": {},
   "outputs": [],
   "source": [
    "results = container.query_items(\n",
    "        query= f'''\n",
    "        SELECT TOP 5 c.product_id, c.product_name, c.description\n",
    "        FROM c\n",
    "        ORDER BY RANK FullTextScore(c.description,'{\"', '\".join(full_text)}')\n",
    "        ''',\n",
    "          enable_cross_partition_query=True, populate_query_metrics=True)\n",
    "\n",
    "for r in list(results):\n",
    "    print(json.dumps(r,indent=4))"
   ]
  },
  {
   "cell_type": "code",
   "execution_count": null,
   "id": "fb4ef4b0",
   "metadata": {},
   "outputs": [],
   "source": [
    "results = container.query_items(\n",
    "        query= f'''\n",
    "        SELECT TOP 5 c.product_id, c.product_name, c.description, VectorDistance(c.embedding, {emb}) as SimilarityScore\n",
    "        FROM c\n",
    "        ORDER BY RANK RRF(FullTextScore(c.description,'{\"', '\".join(full_text)}'),VectorDistance(c.embedding, {emb}))\n",
    "        ''',\n",
    "          enable_cross_partition_query=True, populate_query_metrics=True)\n",
    "\n",
    "for r in list(results):\n",
    "    print(json.dumps(r,indent=4))"
   ]
  },
  {
   "cell_type": "markdown",
   "id": "24c4abc5",
   "metadata": {},
   "source": [
    "# Search using async.io library for concurrency"
   ]
  },
  {
   "cell_type": "code",
   "execution_count": null,
   "id": "2583e8a3",
   "metadata": {},
   "outputs": [],
   "source": [
    "async def fetch_query_results(container, query, pk_range):\n",
    "    return [item async for item in container.query_items(query=query,parameters=[{'name' : '@query_vector', 'value' : emb}], partition_key_range_id=pk_range['id'], populate_query_metrics=True)]"
   ]
  },
  {
   "cell_type": "code",
   "execution_count": null,
   "id": "05bbec3a",
   "metadata": {},
   "outputs": [],
   "source": [
    "async def concurrent_query_sample(query):\n",
    "    async with AsyncClient(url=cosmos_endpoint, credential=credential) as client:\n",
    "        async_db = client.get_database_client(cosmos_database)\n",
    "        async_container = async_db.get_container_client(cosmos_container)\n",
    "        # Fetch the partition key range ids for the container\n",
    "        pk_ranges = [pk_range async for pk_range in  async_container.client_connection._ReadPartitionKeyRanges(async_container.container_link)]\n",
    "        # Queue up queries on a per-partition basis\n",
    "        tasks = [fetch_query_results(async_container, query, pk_range) for pk_range in pk_ranges]\n",
    "        # Run them all and gather the results\n",
    "        results = await asyncio.gather(*tasks)\n",
    "        return results, client.client_connection.last_response_headers"
   ]
  },
  {
   "cell_type": "code",
   "execution_count": null,
   "id": "15ddae20",
   "metadata": {},
   "outputs": [],
   "source": [
    "query = '''\n",
    "        SELECT TOP 10 c.id, c.product_name, c.description, VectorDistance(c.embedding, @query_vector) as Score\n",
    "        FROM c\n",
    "        ORDER BY VectorDistance(c.embedding, @query_vector)\n",
    "    '''"
   ]
  },
  {
   "cell_type": "code",
   "execution_count": null,
   "id": "9a4328f2",
   "metadata": {},
   "outputs": [],
   "source": [
    "# Run the query across all partitions\n",
    "results, headers = await concurrent_query_sample(query)\n",
    "\n",
    "# Merge and sort the results\n",
    "flattened_results = [item for sublist in results for item in sublist]\n",
    "sorted_results = sorted(flattened_results, key=lambda x: x[\"Score\"], reverse=True)\n",
    "print(json.dumps(sorted_results,indent=4))"
   ]
  }
 ],
 "metadata": {
  "kernelspec": {
   "display_name": "py312",
   "language": "python",
   "name": "python3"
  },
  "language_info": {
   "codemirror_mode": {
    "name": "ipython",
    "version": 3
   },
   "file_extension": ".py",
   "mimetype": "text/x-python",
   "name": "python",
   "nbconvert_exporter": "python",
   "pygments_lexer": "ipython3",
   "version": "3.13.0"
  }
 },
 "nbformat": 4,
 "nbformat_minor": 5
}
